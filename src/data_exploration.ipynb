{
 "cells": [
  {
   "cell_type": "code",
   "execution_count": null,
   "metadata": {},
   "outputs": [],
   "source": [
    "import pandas as pd\n",
    "import numpy as np\n",
    "import matplotlib.pyplot as plt"
   ]
  },
  {
   "cell_type": "code",
   "execution_count": null,
   "metadata": {},
   "outputs": [],
   "source": [
    "col_types = {\"mapped_veh_id\": np.int32,\n",
    "            #\"RS_E_OilPress_PC1\": np.int32,\n",
    "            #\"RS_E_OilPress_PC2\": np.int32,\n",
    "            #\"RS_E_RPM_PC1\": np.int32,\n",
    "            #\"RS_E_RPM_PC2\": np.int32,\n",
    "            #\"RS_E_InAirTemp_PC1\": np.int32,\n",
    "            #\"RS_E_InAirTemp_PC2\": np.int32,\n",
    "            #\"RS_E_WatTemp_PC1\": np.int32,\n",
    "            #\"RS_E_WatTemp_PC2\": np.int32,\n",
    "            #\"RS_T_OilTemp_PC1\": np.int32,\n",
    "            #\"RS_T_OilTemp_PC2\": np.int32\n",
    "            }\n",
    "data = pd.read_csv(\"../data/ar41_for_ulb.csv\", delimiter=\";\", index_col=0, dtype=col_types)\n"
   ]
  },
  {
   "cell_type": "code",
   "execution_count": null,
   "metadata": {},
   "outputs": [],
   "source": [
    "data[:10]"
   ]
  },
  {
   "cell_type": "code",
   "execution_count": null,
   "metadata": {},
   "outputs": [],
   "source": [
    "data.shape"
   ]
  },
  {
   "cell_type": "code",
   "execution_count": null,
   "metadata": {},
   "outputs": [],
   "source": [
    "summary = data.describe()\n",
    "summary"
   ]
  },
  {
   "cell_type": "code",
   "execution_count": null,
   "metadata": {},
   "outputs": [],
   "source": [
    "data.duplicated(subset=(\"timestamps_UTC\", \"lat\", \"lon\"), keep='first').sum()"
   ]
  },
  {
   "cell_type": "markdown",
   "metadata": {},
   "source": [
    "### Save sorted dataset"
   ]
  },
  {
   "cell_type": "code",
   "execution_count": null,
   "metadata": {},
   "outputs": [],
   "source": [
    "data = data.sort_values(by=[\"mapped_veh_id\", \"timestamps_UTC\"])\n",
    "data.to_csv(\"../data/sorted_full_data.csv\", sep=\";\", index=False)"
   ]
  },
  {
   "cell_type": "code",
   "execution_count": 7,
   "metadata": {},
   "outputs": [
    {
     "data": {
      "text/html": [
       "<div>\n",
       "<style scoped>\n",
       "    .dataframe tbody tr th:only-of-type {\n",
       "        vertical-align: middle;\n",
       "    }\n",
       "\n",
       "    .dataframe tbody tr th {\n",
       "        vertical-align: top;\n",
       "    }\n",
       "\n",
       "    .dataframe thead th {\n",
       "        text-align: right;\n",
       "    }\n",
       "</style>\n",
       "<table border=\"1\" class=\"dataframe\">\n",
       "  <thead>\n",
       "    <tr style=\"text-align: right;\">\n",
       "      <th></th>\n",
       "      <th>mapped_veh_id</th>\n",
       "      <th>timestamps_UTC</th>\n",
       "      <th>lat</th>\n",
       "      <th>lon</th>\n",
       "      <th>RS_E_InAirTemp_PC1</th>\n",
       "      <th>RS_E_InAirTemp_PC2</th>\n",
       "      <th>RS_E_OilPress_PC1</th>\n",
       "      <th>RS_E_OilPress_PC2</th>\n",
       "      <th>RS_E_RPM_PC1</th>\n",
       "      <th>RS_E_RPM_PC2</th>\n",
       "      <th>RS_E_WatTemp_PC1</th>\n",
       "      <th>RS_E_WatTemp_PC2</th>\n",
       "      <th>RS_T_OilTemp_PC1</th>\n",
       "      <th>RS_T_OilTemp_PC2</th>\n",
       "    </tr>\n",
       "  </thead>\n",
       "  <tbody>\n",
       "    <tr>\n",
       "      <th>0</th>\n",
       "      <td>181</td>\n",
       "      <td>2023-08-01 03:44:12</td>\n",
       "      <td>50.769818</td>\n",
       "      <td>3.872114</td>\n",
       "      <td>27.0</td>\n",
       "      <td>23.0</td>\n",
       "      <td>255.0</td>\n",
       "      <td>238.0</td>\n",
       "      <td>794.0</td>\n",
       "      <td>801.0</td>\n",
       "      <td>83.0</td>\n",
       "      <td>81.0</td>\n",
       "      <td>76.0</td>\n",
       "      <td>77.0</td>\n",
       "    </tr>\n",
       "    <tr>\n",
       "      <th>1</th>\n",
       "      <td>143</td>\n",
       "      <td>2023-08-01 06:36:29</td>\n",
       "      <td>51.039993</td>\n",
       "      <td>3.693429</td>\n",
       "      <td>33.0</td>\n",
       "      <td>32.0</td>\n",
       "      <td>272.0</td>\n",
       "      <td>324.0</td>\n",
       "      <td>802.0</td>\n",
       "      <td>804.0</td>\n",
       "      <td>78.0</td>\n",
       "      <td>78.0</td>\n",
       "      <td>73.0</td>\n",
       "      <td>74.0</td>\n",
       "    </tr>\n",
       "    <tr>\n",
       "      <th>2</th>\n",
       "      <td>183</td>\n",
       "      <td>2023-08-24 06:53:54</td>\n",
       "      <td>50.742203</td>\n",
       "      <td>3.602035</td>\n",
       "      <td>31.0</td>\n",
       "      <td>33.0</td>\n",
       "      <td>234.0</td>\n",
       "      <td>182.0</td>\n",
       "      <td>799.0</td>\n",
       "      <td>802.0</td>\n",
       "      <td>82.0</td>\n",
       "      <td>82.0</td>\n",
       "      <td>85.0</td>\n",
       "      <td>87.0</td>\n",
       "    </tr>\n",
       "    <tr>\n",
       "      <th>3</th>\n",
       "      <td>177</td>\n",
       "      <td>2023-08-01 13:53:38</td>\n",
       "      <td>50.930914</td>\n",
       "      <td>5.327132</td>\n",
       "      <td>35.0</td>\n",
       "      <td>38.0</td>\n",
       "      <td>220.0</td>\n",
       "      <td>244.0</td>\n",
       "      <td>794.0</td>\n",
       "      <td>801.0</td>\n",
       "      <td>77.0</td>\n",
       "      <td>81.0</td>\n",
       "      <td>78.0</td>\n",
       "      <td>82.0</td>\n",
       "    </tr>\n",
       "    <tr>\n",
       "      <th>4</th>\n",
       "      <td>143</td>\n",
       "      <td>2023-08-24 07:02:30</td>\n",
       "      <td>51.180773</td>\n",
       "      <td>3.575259</td>\n",
       "      <td>41.0</td>\n",
       "      <td>34.0</td>\n",
       "      <td>227.0</td>\n",
       "      <td>282.0</td>\n",
       "      <td>806.0</td>\n",
       "      <td>800.0</td>\n",
       "      <td>85.0</td>\n",
       "      <td>78.0</td>\n",
       "      <td>82.0</td>\n",
       "      <td>79.0</td>\n",
       "    </tr>\n",
       "    <tr>\n",
       "      <th>...</th>\n",
       "      <td>...</td>\n",
       "      <td>...</td>\n",
       "      <td>...</td>\n",
       "      <td>...</td>\n",
       "      <td>...</td>\n",
       "      <td>...</td>\n",
       "      <td>...</td>\n",
       "      <td>...</td>\n",
       "      <td>...</td>\n",
       "      <td>...</td>\n",
       "      <td>...</td>\n",
       "      <td>...</td>\n",
       "      <td>...</td>\n",
       "      <td>...</td>\n",
       "    </tr>\n",
       "    <tr>\n",
       "      <th>17679268</th>\n",
       "      <td>180</td>\n",
       "      <td>2023-05-28 19:28:59</td>\n",
       "      <td>50.919864</td>\n",
       "      <td>3.791125</td>\n",
       "      <td>40.0</td>\n",
       "      <td>36.0</td>\n",
       "      <td>238.0</td>\n",
       "      <td>238.0</td>\n",
       "      <td>800.0</td>\n",
       "      <td>797.0</td>\n",
       "      <td>86.0</td>\n",
       "      <td>86.0</td>\n",
       "      <td>90.0</td>\n",
       "      <td>92.0</td>\n",
       "    </tr>\n",
       "    <tr>\n",
       "      <th>17679269</th>\n",
       "      <td>180</td>\n",
       "      <td>2023-05-28 19:54:41</td>\n",
       "      <td>51.035243</td>\n",
       "      <td>3.710695</td>\n",
       "      <td>41.0</td>\n",
       "      <td>31.0</td>\n",
       "      <td>244.0</td>\n",
       "      <td>241.0</td>\n",
       "      <td>790.0</td>\n",
       "      <td>801.0</td>\n",
       "      <td>86.0</td>\n",
       "      <td>87.0</td>\n",
       "      <td>87.0</td>\n",
       "      <td>87.0</td>\n",
       "    </tr>\n",
       "    <tr>\n",
       "      <th>17679270</th>\n",
       "      <td>122</td>\n",
       "      <td>2023-05-28 20:23:20</td>\n",
       "      <td>51.015686</td>\n",
       "      <td>3.775316</td>\n",
       "      <td>52.0</td>\n",
       "      <td>42.0</td>\n",
       "      <td>3.0</td>\n",
       "      <td>3.0</td>\n",
       "      <td>0.0</td>\n",
       "      <td>0.0</td>\n",
       "      <td>78.0</td>\n",
       "      <td>82.0</td>\n",
       "      <td>80.0</td>\n",
       "      <td>82.0</td>\n",
       "    </tr>\n",
       "    <tr>\n",
       "      <th>17679271</th>\n",
       "      <td>177</td>\n",
       "      <td>2023-05-28 20:46:00</td>\n",
       "      <td>51.189586</td>\n",
       "      <td>5.109380</td>\n",
       "      <td>27.0</td>\n",
       "      <td>38.0</td>\n",
       "      <td>417.0</td>\n",
       "      <td>469.0</td>\n",
       "      <td>1441.0</td>\n",
       "      <td>1454.0</td>\n",
       "      <td>77.0</td>\n",
       "      <td>78.0</td>\n",
       "      <td>76.0</td>\n",
       "      <td>80.0</td>\n",
       "    </tr>\n",
       "    <tr>\n",
       "      <th>17679272</th>\n",
       "      <td>110</td>\n",
       "      <td>2023-05-28 21:05:24</td>\n",
       "      <td>51.041178</td>\n",
       "      <td>3.683947</td>\n",
       "      <td>37.0</td>\n",
       "      <td>33.0</td>\n",
       "      <td>220.0</td>\n",
       "      <td>196.0</td>\n",
       "      <td>805.0</td>\n",
       "      <td>796.0</td>\n",
       "      <td>83.0</td>\n",
       "      <td>81.0</td>\n",
       "      <td>79.0</td>\n",
       "      <td>75.0</td>\n",
       "    </tr>\n",
       "  </tbody>\n",
       "</table>\n",
       "<p>17679273 rows × 14 columns</p>\n",
       "</div>"
      ],
      "text/plain": [
       "          mapped_veh_id       timestamps_UTC        lat       lon  \\\n",
       "0                   181  2023-08-01 03:44:12  50.769818  3.872114   \n",
       "1                   143  2023-08-01 06:36:29  51.039993  3.693429   \n",
       "2                   183  2023-08-24 06:53:54  50.742203  3.602035   \n",
       "3                   177  2023-08-01 13:53:38  50.930914  5.327132   \n",
       "4                   143  2023-08-24 07:02:30  51.180773  3.575259   \n",
       "...                 ...                  ...        ...       ...   \n",
       "17679268            180  2023-05-28 19:28:59  50.919864  3.791125   \n",
       "17679269            180  2023-05-28 19:54:41  51.035243  3.710695   \n",
       "17679270            122  2023-05-28 20:23:20  51.015686  3.775316   \n",
       "17679271            177  2023-05-28 20:46:00  51.189586  5.109380   \n",
       "17679272            110  2023-05-28 21:05:24  51.041178  3.683947   \n",
       "\n",
       "          RS_E_InAirTemp_PC1  RS_E_InAirTemp_PC2  RS_E_OilPress_PC1  \\\n",
       "0                       27.0                23.0              255.0   \n",
       "1                       33.0                32.0              272.0   \n",
       "2                       31.0                33.0              234.0   \n",
       "3                       35.0                38.0              220.0   \n",
       "4                       41.0                34.0              227.0   \n",
       "...                      ...                 ...                ...   \n",
       "17679268                40.0                36.0              238.0   \n",
       "17679269                41.0                31.0              244.0   \n",
       "17679270                52.0                42.0                3.0   \n",
       "17679271                27.0                38.0              417.0   \n",
       "17679272                37.0                33.0              220.0   \n",
       "\n",
       "          RS_E_OilPress_PC2  RS_E_RPM_PC1  RS_E_RPM_PC2  RS_E_WatTemp_PC1  \\\n",
       "0                     238.0         794.0         801.0              83.0   \n",
       "1                     324.0         802.0         804.0              78.0   \n",
       "2                     182.0         799.0         802.0              82.0   \n",
       "3                     244.0         794.0         801.0              77.0   \n",
       "4                     282.0         806.0         800.0              85.0   \n",
       "...                     ...           ...           ...               ...   \n",
       "17679268              238.0         800.0         797.0              86.0   \n",
       "17679269              241.0         790.0         801.0              86.0   \n",
       "17679270                3.0           0.0           0.0              78.0   \n",
       "17679271              469.0        1441.0        1454.0              77.0   \n",
       "17679272              196.0         805.0         796.0              83.0   \n",
       "\n",
       "          RS_E_WatTemp_PC2  RS_T_OilTemp_PC1  RS_T_OilTemp_PC2  \n",
       "0                     81.0              76.0              77.0  \n",
       "1                     78.0              73.0              74.0  \n",
       "2                     82.0              85.0              87.0  \n",
       "3                     81.0              78.0              82.0  \n",
       "4                     78.0              82.0              79.0  \n",
       "...                    ...               ...               ...  \n",
       "17679268              86.0              90.0              92.0  \n",
       "17679269              87.0              87.0              87.0  \n",
       "17679270              82.0              80.0              82.0  \n",
       "17679271              78.0              76.0              80.0  \n",
       "17679272              81.0              79.0              75.0  \n",
       "\n",
       "[17679273 rows x 14 columns]"
      ]
     },
     "execution_count": 7,
     "metadata": {},
     "output_type": "execute_result"
    }
   ],
   "source": [
    "data"
   ]
  },
  {
   "cell_type": "markdown",
   "metadata": {},
   "source": [
    "### Vehicules"
   ]
  },
  {
   "cell_type": "code",
   "execution_count": 8,
   "metadata": {},
   "outputs": [
    {
     "data": {
      "text/plain": [
       "array([181, 143, 183, 177, 121, 136, 172, 180, 151, 128, 182, 194, 134,\n",
       "       140, 161, 142, 166, 176, 178, 145, 125, 152, 154, 109, 146, 170,\n",
       "       106, 188, 157, 103, 171, 138, 137, 112, 179, 190, 122, 102, 141,\n",
       "       189, 173, 116, 114, 159, 153, 149, 111, 150, 184, 126, 135, 192,\n",
       "       160, 175, 119, 164, 186, 174, 187, 167, 108, 133, 168, 110, 191,\n",
       "       124, 130, 185, 105, 120, 158, 197, 162, 115, 104, 139, 131, 169,\n",
       "       155, 165, 147, 156, 196, 117, 113, 144, 129, 107, 123, 163, 127,\n",
       "       148])"
      ]
     },
     "execution_count": 8,
     "metadata": {},
     "output_type": "execute_result"
    }
   ],
   "source": [
    "vehicules = data[\"mapped_veh_id\"].unique()\n",
    "vehicules"
   ]
  },
  {
   "cell_type": "code",
   "execution_count": 9,
   "metadata": {},
   "outputs": [
    {
     "data": {
      "text/plain": [
       "92"
      ]
     },
     "execution_count": 9,
     "metadata": {},
     "output_type": "execute_result"
    }
   ],
   "source": [
    "len(vehicules)"
   ]
  },
  {
   "cell_type": "code",
   "execution_count": 10,
   "metadata": {},
   "outputs": [
    {
     "data": {
      "text/plain": [
       "<AxesSubplot: >"
      ]
     },
     "execution_count": 10,
     "metadata": {},
     "output_type": "execute_result"
    },
    {
     "data": {
      "image/png": "[encoded data removed]",
      "text/plain": [
       "<Figure size 1000x1500 with 1 Axes>"
      ]
     },
     "metadata": {},
     "output_type": "display_data"
    }
   ],
   "source": [
    "plt.figure(figsize=(10, 15))\n",
    "data['mapped_veh_id'].value_counts().plot(kind='barh')"
   ]
  },
  {
   "cell_type": "code",
   "execution_count": null,
   "metadata": {},
   "outputs": [],
   "source": [
    "timeseries = data[data['mapped_veh_id'] == 120].sort_values(by=\"timestamps_UTC\")\n",
    "timeseries[\"timestamps_UTC\"] = pd.to_datetime(timeseries[\"timestamps_UTC\"])\n",
    "timeseries = timeseries.set_index(\"timestamps_UTC\")\n",
    "timeseries"
   ]
  },
  {
   "cell_type": "code",
   "execution_count": null,
   "metadata": {},
   "outputs": [],
   "source": [
    "timeseries.index.max() - timeseries.index.min()"
   ]
  },
  {
   "cell_type": "code",
   "execution_count": null,
   "metadata": {},
   "outputs": [],
   "source": [
    "timeseries[\"2023-05-02\":\"2023-05-3\"][\"RS_E_RPM_PC1\"].plot(figsize=(30,10))\n",
    "timeseries[\"2023-05-02\":\"2023-05-3\"][\"RS_E_RPM_PC2\"].plot(figsize=(30,10))"
   ]
  },
  {
   "cell_type": "code",
   "execution_count": null,
   "metadata": {},
   "outputs": [],
   "source": [
    "timeseries['RS_E_RPM_PC1'].ewm(span = 3600).mean().plot(figsize=(30,10))\n",
    "timeseries['RS_E_RPM_PC2'].ewm(span = 3600).mean().plot(figsize=(30,10))\n"
   ]
  },
  {
   "cell_type": "code",
   "execution_count": null,
   "metadata": {},
   "outputs": [],
   "source": [
    "timeseries = data[data['mapped_veh_id'] == 127].sort_values(by=\"timestamps_UTC\")\n",
    "timeseries[\"timestamps_UTC\"] = pd.to_datetime(timeseries[\"timestamps_UTC\"])\n",
    "timeseries = timeseries.set_index(\"timestamps_UTC\")"
   ]
  },
  {
   "cell_type": "code",
   "execution_count": null,
   "metadata": {},
   "outputs": [],
   "source": [
    "timeseries[2000:2500]"
   ]
  },
  {
   "cell_type": "markdown",
   "metadata": {},
   "source": [
    "### Latitude and longitude"
   ]
  },
  {
   "cell_type": "markdown",
   "metadata": {},
   "source": [
    "Entries with wrong latitude or longitude\n",
    "\n",
    "> Belgium spans 2 degrees in latitude, from 51 degrees 30 minutes N at Meerle (northernmost point) to 49 degrees 30 minutes N at Torgny (southernmost point). In longitude, it spans less than 4 degrees, from 2 degrees 33 minutes E to 6 degrees 24 minutes E.\n",
    "\n",
    "https://www.belgium.be/en/about_belgium/country/geography"
   ]
  },
  {
   "cell_type": "code",
   "execution_count": null,
   "metadata": {},
   "outputs": [],
   "source": [
    "data[(data[\"lon\"] == 0) | (data[\"lat\"] == 0)]"
   ]
  },
  {
   "cell_type": "code",
   "execution_count": null,
   "metadata": {},
   "outputs": [],
   "source": [
    "data[(data[\"lat\"] > 52) | (data[\"lat\"] < 49)]"
   ]
  },
  {
   "cell_type": "code",
   "execution_count": null,
   "metadata": {},
   "outputs": [],
   "source": [
    "data[(data[\"lon\"] > 6.5) | (data[\"lon\"] < 2)]"
   ]
  },
  {
   "cell_type": "code",
   "execution_count": null,
   "metadata": {},
   "outputs": [],
   "source": [
    "data[(data[\"mapped_veh_id\"] == 194) & (data[\"timestamps_UTC\"] >= \"2023-06-16 13:15\") & (data[\"timestamps_UTC\"] < \"2023-06-16 13:30\")].sort_values(\"timestamps_UTC\")"
   ]
  },
  {
   "cell_type": "markdown",
   "metadata": {},
   "source": [
    "Number of different coordinates"
   ]
  },
  {
   "cell_type": "code",
   "execution_count": null,
   "metadata": {},
   "outputs": [],
   "source": [
    "unique_lat_lon = data[[\"lat\", \"lon\"]].drop_duplicates()\n",
    "print(\"# Unique coordinates: \", len(unique_lat_lon))\n",
    "print(\"# Duplicate coordinates\", len(data) - len(unique_lat_lon))"
   ]
  },
  {
   "cell_type": "code",
   "execution_count": null,
   "metadata": {},
   "outputs": [],
   "source": [
    "unique_lat_lon = data[[\"lat\", \"lon\"]].round(2).drop_duplicates()\n",
    "print(\"# Unique coordinates: \", len(unique_lat_lon))\n",
    "print(\"# Duplicate coordinates\", len(data) - len(unique_lat_lon))"
   ]
  },
  {
   "cell_type": "code",
   "execution_count": null,
   "metadata": {},
   "outputs": [],
   "source": [
    "unique_lat_lon = data[[\"timestamps_UTC\", \"lat\", \"lon\"]].drop_duplicates()\n",
    "print(\"# Unique coordinates: \", len(unique_lat_lon))\n",
    "print(\"# Duplicate coordinates\", len(data) - len(unique_lat_lon))"
   ]
  },
  {
   "cell_type": "markdown",
   "metadata": {},
   "source": [
    "### Temperatures"
   ]
  },
  {
   "cell_type": "markdown",
   "metadata": {},
   "source": [
    "#### Water"
   ]
  },
  {
   "cell_type": "code",
   "execution_count": null,
   "metadata": {},
   "outputs": [],
   "source": [
    "data[(data[\"RS_E_WatTemp_PC1\"] == 0) |  (data[\"RS_E_WatTemp_PC2\"] == 0)]"
   ]
  },
  {
   "cell_type": "code",
   "execution_count": null,
   "metadata": {},
   "outputs": [],
   "source": [
    "data[(data[\"RS_E_WatTemp_PC1\"] < 0) |  (data[\"RS_E_WatTemp_PC2\"] < 0)]"
   ]
  },
  {
   "cell_type": "code",
   "execution_count": null,
   "metadata": {},
   "outputs": [],
   "source": [
    "data[(data[\"RS_E_WatTemp_PC1\"] > 100) | (data[\"RS_E_WatTemp_PC2\"] > 100)]"
   ]
  },
  {
   "cell_type": "code",
   "execution_count": null,
   "metadata": {},
   "outputs": [],
   "source": [
    "data[(data[\"RS_E_WatTemp_PC1\"] > 100) | (data[\"RS_E_WatTemp_PC2\"] > 100)]"
   ]
  },
  {
   "cell_type": "markdown",
   "metadata": {},
   "source": [
    "#### Air"
   ]
  },
  {
   "cell_type": "code",
   "execution_count": null,
   "metadata": {},
   "outputs": [],
   "source": [
    "data[(data[\"RS_E_InAirTemp_PC1\"] == 0) |  (data[\"RS_E_InAirTemp_PC2\"] == 0)]"
   ]
  },
  {
   "cell_type": "code",
   "execution_count": null,
   "metadata": {},
   "outputs": [],
   "source": [
    "data[(data[\"RS_E_InAirTemp_PC1\"] > 65) |  (data[\"RS_E_InAirTemp_PC2\"] > 65)]"
   ]
  },
  {
   "cell_type": "code",
   "execution_count": null,
   "metadata": {},
   "outputs": [],
   "source": [
    "data[(data[\"RS_E_InAirTemp_PC1\"] > 130) |  (data[\"RS_E_InAirTemp_PC2\"] > 130)]"
   ]
  },
  {
   "cell_type": "markdown",
   "metadata": {},
   "source": [
    "#### Oil"
   ]
  },
  {
   "cell_type": "code",
   "execution_count": null,
   "metadata": {},
   "outputs": [],
   "source": [
    "data[(data[\"RS_T_OilTemp_PC1\"] == 0) |  (data[\"RS_T_OilTemp_PC2\"] == 0)]"
   ]
  },
  {
   "cell_type": "code",
   "execution_count": null,
   "metadata": {},
   "outputs": [],
   "source": [
    "# freeze at -10\n",
    "data[(data[\"RS_T_OilTemp_PC1\"] < 0) |  (data[\"RS_T_OilTemp_PC2\"] < 0)]"
   ]
  },
  {
   "cell_type": "code",
   "execution_count": null,
   "metadata": {},
   "outputs": [],
   "source": [
    "data[(data[\"RS_T_OilTemp_PC1\"] > 115) |  (data[\"RS_T_OilTemp_PC2\"] > 115)]"
   ]
  },
  {
   "cell_type": "markdown",
   "metadata": {},
   "source": [
    "### Pressure"
   ]
  },
  {
   "cell_type": "code",
   "execution_count": null,
   "metadata": {},
   "outputs": [],
   "source": [
    "data[(data[\"RS_E_OilPress_PC1\"] == 0) | (data[\"RS_E_OilPress_PC2\"] == 0)]"
   ]
  },
  {
   "cell_type": "code",
   "execution_count": null,
   "metadata": {},
   "outputs": [],
   "source": [
    "data[(data[\"RS_E_OilPress_PC1\"] > 500) | (data[\"RS_E_OilPress_PC2\"] > 500)]"
   ]
  },
  {
   "cell_type": "markdown",
   "metadata": {},
   "source": [
    "### RPM"
   ]
  },
  {
   "cell_type": "code",
   "execution_count": null,
   "metadata": {},
   "outputs": [],
   "source": [
    "data[(data[\"RS_E_RPM_PC1\"] == 0) | (data[\"RS_E_RPM_PC2\"] == 0)]"
   ]
  },
  {
   "cell_type": "code",
   "execution_count": null,
   "metadata": {},
   "outputs": [],
   "source": [
    "data[(data[\"RS_E_RPM_PC1\"] == 0) & (data[\"RS_E_RPM_PC2\"] == 0)]"
   ]
  },
  {
   "cell_type": "code",
   "execution_count": null,
   "metadata": {},
   "outputs": [],
   "source": [
    "data[(data[\"RS_E_RPM_PC1\"] > 2500) | (data[\"RS_E_RPM_PC2\"] > 2500)]"
   ]
  },
  {
   "cell_type": "code",
   "execution_count": null,
   "metadata": {},
   "outputs": [],
   "source": [
    "\"../data/sorted_full_data.csv\""
   ]
  }
 ],
 "metadata": {
  "kernelspec": {
   "display_name": "Python 3 (ipykernel)",
   "language": "python",
   "name": "python3"
  },
  "language_info": {
   "codemirror_mode": {
    "name": "ipython",
    "version": 3
   },
   "file_extension": ".py",
   "mimetype": "text/x-python",
   "name": "python",
   "nbconvert_exporter": "python",
   "pygments_lexer": "ipython3",
   "version": "3.11.0"
  }
 },
 "nbformat": 4,
 "nbformat_minor": 2
}
